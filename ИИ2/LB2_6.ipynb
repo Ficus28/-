{
 "cells": [
  {
   "cell_type": "markdown",
   "id": "d0273a6b-e488-459a-89c2-8bc3be0d48f1",
   "metadata": {},
   "source": [
    "**Задание лабараторной работы №6 являеся дубликатом лабораторной работы №4**"
   ]
  }
 ],
 "metadata": {
  "kernelspec": {
   "display_name": "Python 3 (ipykernel)",
   "language": "python",
   "name": "python3"
  },
  "language_info": {
   "codemirror_mode": {
    "name": "ipython",
    "version": 3
   },
   "file_extension": ".py",
   "mimetype": "text/x-python",
   "name": "python",
   "nbconvert_exporter": "python",
   "pygments_lexer": "ipython3",
   "version": "3.12.6"
  }
 },
 "nbformat": 4,
 "nbformat_minor": 5
}
